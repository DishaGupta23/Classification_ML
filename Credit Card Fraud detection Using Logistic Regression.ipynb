{
 "cells": [
  {
   "cell_type": "code",
   "execution_count": 1,
   "metadata": {},
   "outputs": [],
   "source": [
    "#Importing Libraries\n",
    "import pandas as pd\n",
    "import numpy as np\n",
    "import matplotlib.pyplot as plt"
   ]
  },
  {
   "cell_type": "markdown",
   "metadata": {},
   "source": [
    "Importing dataset"
   ]
  },
  {
   "cell_type": "code",
   "execution_count": 2,
   "metadata": {},
   "outputs": [],
   "source": [
    "df = pd.read_csv('creditcard.csv')\n",
    "X = df.iloc[: ,: -1].values\n",
    "y = df.iloc[: , -1].values"
   ]
  },
  {
   "cell_type": "code",
   "execution_count": 31,
   "metadata": {},
   "outputs": [
    {
     "data": {
      "text/plain": [
       "array([[ 0.00000000e+00, -1.35980713e+00, -7.27811733e-02, ...,\n",
       "         1.33558377e-01, -2.10530535e-02,  1.49620000e+02],\n",
       "       [ 0.00000000e+00,  1.19185711e+00,  2.66150712e-01, ...,\n",
       "        -8.98309914e-03,  1.47241692e-02,  2.69000000e+00],\n",
       "       [ 1.00000000e+00, -1.35835406e+00, -1.34016307e+00, ...,\n",
       "        -5.53527940e-02, -5.97518406e-02,  3.78660000e+02],\n",
       "       ...,\n",
       "       [ 1.72788000e+05,  1.91956501e+00, -3.01253846e-01, ...,\n",
       "         4.45477214e-03, -2.65608286e-02,  6.78800000e+01],\n",
       "       [ 1.72788000e+05, -2.40440050e-01,  5.30482513e-01, ...,\n",
       "         1.08820735e-01,  1.04532821e-01,  1.00000000e+01],\n",
       "       [ 1.72792000e+05, -5.33412522e-01, -1.89733337e-01, ...,\n",
       "        -2.41530880e-03,  1.36489143e-02,  2.17000000e+02]])"
      ]
     },
     "execution_count": 31,
     "metadata": {},
     "output_type": "execute_result"
    }
   ],
   "source": [
    "X"
   ]
  },
  {
   "cell_type": "code",
   "execution_count": 32,
   "metadata": {},
   "outputs": [
    {
     "data": {
      "text/plain": [
       "array([0, 0, 0, ..., 0, 0, 0], dtype=int64)"
      ]
     },
     "execution_count": 32,
     "metadata": {},
     "output_type": "execute_result"
    }
   ],
   "source": [
    "y"
   ]
  },
  {
   "cell_type": "markdown",
   "metadata": {},
   "source": [
    "Spliting the dataset into test and train"
   ]
  },
  {
   "cell_type": "code",
   "execution_count": 8,
   "metadata": {},
   "outputs": [],
   "source": [
    "from sklearn.model_selection import train_test_split\n",
    "X_train , X_test , y_train , y_test = train_test_split(X ,y , test_size = 0.25 , random_state =0)"
   ]
  },
  {
   "cell_type": "markdown",
   "metadata": {},
   "source": [
    "Applying feature scaling"
   ]
  },
  {
   "cell_type": "code",
   "execution_count": 14,
   "metadata": {},
   "outputs": [],
   "source": [
    "from sklearn.preprocessing import StandardScaler\n",
    "sc = StandardScaler()\n",
    "X_train = sc.fit_transform(X_train)\n",
    "X_test = sc.fit_transform(X_test)"
   ]
  },
  {
   "cell_type": "code",
   "execution_count": 34,
   "metadata": {},
   "outputs": [
    {
     "data": {
      "text/plain": [
       "array([[ 0.75665415,  1.04272047,  0.06657394, ..., -0.21031503,\n",
       "        -0.2607924 , -0.35356699],\n",
       "       [-0.2834455 ,  0.65277143,  0.27902921, ..., -0.02422764,\n",
       "        -0.01672827, -0.34945825],\n",
       "       [ 1.35155922, -0.21266203,  0.00863513, ...,  0.59177033,\n",
       "         0.631378  , -0.33270102],\n",
       "       ...,\n",
       "       [-0.38298583,  0.77014889, -0.57187168, ..., -0.00246971,\n",
       "         0.01108282, -0.21608519],\n",
       "       [ 0.05149257,  0.91611288, -1.02491801, ..., -0.0825166 ,\n",
       "        -0.100612  ,  0.33339889],\n",
       "       [-0.41938711, -0.30165824,  0.45289483, ...,  0.21630833,\n",
       "         0.36475181, -0.29225808]])"
      ]
     },
     "execution_count": 34,
     "metadata": {},
     "output_type": "execute_result"
    }
   ],
   "source": [
    "X_train"
   ]
  },
  {
   "cell_type": "code",
   "execution_count": 35,
   "metadata": {},
   "outputs": [
    {
     "data": {
      "text/plain": [
       "array([[ 0.65294852, -0.16231908,  0.64204284, ...,  0.26301127,\n",
       "         0.46235694, -0.18685593],\n",
       "       [ 1.31489192, -0.17584138,  0.56575459, ...,  0.18534466,\n",
       "         0.50367918, -0.33557913],\n",
       "       [ 1.21450679, -0.82415358, -1.47483831, ...,  0.69909712,\n",
       "         1.2536383 ,  0.03219982],\n",
       "       ...,\n",
       "       [-0.78708496,  0.72254497, -0.27263126, ..., -0.02862602,\n",
       "         0.01927491, -0.30420722],\n",
       "       [ 1.22603296, -1.65266558,  1.28106533, ...,  1.15538662,\n",
       "        -0.55092476,  0.04780754],\n",
       "       [-1.14871584,  0.64789408, -0.44690401, ..., -0.25268833,\n",
       "         0.03493675,  0.00872956]])"
      ]
     },
     "execution_count": 35,
     "metadata": {},
     "output_type": "execute_result"
    }
   ],
   "source": [
    "X_test"
   ]
  },
  {
   "cell_type": "markdown",
   "metadata": {},
   "source": [
    "Building Model"
   ]
  },
  {
   "cell_type": "code",
   "execution_count": 19,
   "metadata": {},
   "outputs": [
    {
     "name": "stderr",
     "output_type": "stream",
     "text": [
      "C:\\anaconda\\lib\\site-packages\\sklearn\\linear_model\\logistic.py:432: FutureWarning: Default solver will be changed to 'lbfgs' in 0.22. Specify a solver to silence this warning.\n",
      "  FutureWarning)\n"
     ]
    },
    {
     "data": {
      "text/plain": [
       "LogisticRegression(C=1.0, class_weight=None, dual=False, fit_intercept=True,\n",
       "                   intercept_scaling=1, l1_ratio=None, max_iter=100,\n",
       "                   multi_class='warn', n_jobs=None, penalty='l2',\n",
       "                   random_state=0, solver='warn', tol=0.0001, verbose=0,\n",
       "                   warm_start=False)"
      ]
     },
     "execution_count": 19,
     "metadata": {},
     "output_type": "execute_result"
    }
   ],
   "source": [
    "from sklearn.linear_model import LogisticRegression\n",
    "classifier =  LogisticRegression(random_state = 0)\n",
    "classifier.fit(X_train , y_train)"
   ]
  },
  {
   "cell_type": "markdown",
   "metadata": {},
   "source": [
    "Predicting new results"
   ]
  },
  {
   "cell_type": "code",
   "execution_count": 22,
   "metadata": {},
   "outputs": [
    {
     "name": "stdout",
     "output_type": "stream",
     "text": [
      "[[0 0]\n",
      " [0 0]\n",
      " [0 0]\n",
      " ...\n",
      " [0 0]\n",
      " [0 0]\n",
      " [0 0]]\n"
     ]
    }
   ],
   "source": [
    "y_pred = classifier.predict(X_test)\n",
    "print(np.concatenate((y_pred.reshape(len(y_pred),1),y_test.reshape(len(y_test),1)),1))"
   ]
  },
  {
   "cell_type": "markdown",
   "metadata": {},
   "source": [
    "Confusion matrix and accuracy score"
   ]
  },
  {
   "cell_type": "code",
   "execution_count": 24,
   "metadata": {},
   "outputs": [
    {
     "name": "stdout",
     "output_type": "stream",
     "text": [
      "[[71071    11]\n",
      " [   40    80]]\n"
     ]
    },
    {
     "data": {
      "text/plain": [
       "0.999283727985169"
      ]
     },
     "execution_count": 24,
     "metadata": {},
     "output_type": "execute_result"
    }
   ],
   "source": [
    "from sklearn.metrics import confusion_matrix , accuracy_score\n",
    "cm = confusion_matrix(y_test , y_pred)\n",
    "print(cm)\n",
    "accuracy_score(y_test , y_pred)"
   ]
  },
  {
   "cell_type": "code",
   "execution_count": null,
   "metadata": {},
   "outputs": [],
   "source": []
  }
 ],
 "metadata": {
  "kernelspec": {
   "display_name": "Python 3",
   "language": "python",
   "name": "python3"
  },
  "language_info": {
   "codemirror_mode": {
    "name": "ipython",
    "version": 3
   },
   "file_extension": ".py",
   "mimetype": "text/x-python",
   "name": "python",
   "nbconvert_exporter": "python",
   "pygments_lexer": "ipython3",
   "version": "3.7.4"
  }
 },
 "nbformat": 4,
 "nbformat_minor": 2
}
